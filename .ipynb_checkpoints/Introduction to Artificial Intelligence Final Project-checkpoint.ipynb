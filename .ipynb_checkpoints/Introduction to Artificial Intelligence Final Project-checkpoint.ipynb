{
 "cells": [
  {
   "cell_type": "markdown",
   "metadata": {},
   "source": [
    "# Introduction to Artificial Intelligence Final Project\n",
    "## By Noah Segal-Gould and Tanner Cohan"
   ]
  },
  {
   "cell_type": "markdown",
   "metadata": {},
   "source": [
    "### To implement:\n",
    "[K-Means clustering, hierarchical document clustering, and topic modeling](http://brandonrose.org/clustering)\n",
    "\n",
    "[K-Means clustering](http://scikit-learn.org/dev/auto_examples/text/plot_document_clustering.html)"
   ]
  },
  {
   "cell_type": "markdown",
   "metadata": {},
   "source": [
    "#### Import libraries"
   ]
  },
  {
   "cell_type": "code",
   "execution_count": 1,
   "metadata": {
    "collapsed": true
   },
   "outputs": [],
   "source": [
    "import pandas as pd\n",
    "from glob import glob\n",
    "from os.path import basename, splitext"
   ]
  },
  {
   "cell_type": "markdown",
   "metadata": {},
   "source": [
    "#### Create lists of file names for all Twitter account CSVs"
   ]
  },
  {
   "cell_type": "code",
   "execution_count": 2,
   "metadata": {
    "collapsed": true
   },
   "outputs": [],
   "source": [
    "house_accounts_filenames = glob(\"house/*.csv\")"
   ]
  },
  {
   "cell_type": "code",
   "execution_count": 3,
   "metadata": {
    "collapsed": true
   },
   "outputs": [],
   "source": [
    "senate_accounts_filenames = glob(\"senate/*.csv\")"
   ]
  },
  {
   "cell_type": "markdown",
   "metadata": {},
   "source": [
    "#### Create lists of all dataframes for all CSVs"
   ]
  },
  {
   "cell_type": "code",
   "execution_count": 4,
   "metadata": {},
   "outputs": [],
   "source": [
    "house_accounts_dataframes = [pd.read_csv(filename).assign(account=\"@\" + splitext(basename(filename))[0]) \n",
    "                             for filename in house_accounts_filenames]"
   ]
  },
  {
   "cell_type": "code",
   "execution_count": 5,
   "metadata": {
    "collapsed": true
   },
   "outputs": [],
   "source": [
    "senate_accounts_dataframes = [pd.read_csv(filename).assign(account=\"@\" + splitext(basename(filename))[0])\n",
    "                              for filename in senate_accounts_filenames]"
   ]
  },
  {
   "cell_type": "markdown",
   "metadata": {},
   "source": [
    "#### Find which Tweets were most Retweeted and Favorited in each list of dataframes"
   ]
  },
  {
   "cell_type": "code",
   "execution_count": 6,
   "metadata": {},
   "outputs": [],
   "source": [
    "most_retweets_house_accounts_dataframes = [df.iloc[[df['Retweets'].idxmax()]] for df in house_accounts_dataframes]"
   ]
  },
  {
   "cell_type": "code",
   "execution_count": 7,
   "metadata": {
    "collapsed": true
   },
   "outputs": [],
   "source": [
    "most_favorites_house_accounts_dataframes = [df.iloc[[df['Favorites'].idxmax()]] for df in house_accounts_dataframes]"
   ]
  },
  {
   "cell_type": "code",
   "execution_count": 8,
   "metadata": {
    "collapsed": true
   },
   "outputs": [],
   "source": [
    "most_retweets_senate_accounts_dataframes = [df.iloc[[df['Retweets'].idxmax()]] for df in senate_accounts_dataframes]"
   ]
  },
  {
   "cell_type": "code",
   "execution_count": 9,
   "metadata": {},
   "outputs": [],
   "source": [
    "most_favorites_senate_accounts_dataframes = [df.iloc[[df['Favorites'].idxmax()]] for df in senate_accounts_dataframes]"
   ]
  },
  {
   "cell_type": "markdown",
   "metadata": {},
   "source": [
    "#### Create dataframes of the most Retweeted and Favorited Tweets for each account"
   ]
  },
  {
   "cell_type": "code",
   "execution_count": 10,
   "metadata": {},
   "outputs": [],
   "source": [
    "most_retweets_congress_dataframe = pd.concat(most_retweets_house_accounts_dataframes + most_retweets_senate_accounts_dataframes)"
   ]
  },
  {
   "cell_type": "code",
   "execution_count": 11,
   "metadata": {
    "collapsed": true
   },
   "outputs": [],
   "source": [
    "most_favorites_congress_dataframe = pd.concat(most_favorites_house_accounts_dataframes + most_favorites_senate_accounts_dataframes)"
   ]
  },
  {
   "cell_type": "markdown",
   "metadata": {},
   "source": [
    "#### Show the Retweets dataframe"
   ]
  },
  {
   "cell_type": "code",
   "execution_count": 12,
   "metadata": {},
   "outputs": [
    {
     "data": {
      "text/html": [
       "<div>\n",
       "<style>\n",
       "    .dataframe thead tr:only-child th {\n",
       "        text-align: right;\n",
       "    }\n",
       "\n",
       "    .dataframe thead th {\n",
       "        text-align: left;\n",
       "    }\n",
       "\n",
       "    .dataframe tbody tr th {\n",
       "        vertical-align: top;\n",
       "    }\n",
       "</style>\n",
       "<table border=\"1\" class=\"dataframe\">\n",
       "  <thead>\n",
       "    <tr style=\"text-align: right;\">\n",
       "      <th></th>\n",
       "      <th>Text</th>\n",
       "      <th>Date</th>\n",
       "      <th>Favorites</th>\n",
       "      <th>Retweets</th>\n",
       "      <th>Tweet ID</th>\n",
       "      <th>account</th>\n",
       "    </tr>\n",
       "  </thead>\n",
       "  <tbody>\n",
       "    <tr>\n",
       "      <th>38</th>\n",
       "      <td>56 years ago today I was released from Parchma...</td>\n",
       "      <td>2017-07-07 13:17:53</td>\n",
       "      <td>259935</td>\n",
       "      <td>114910</td>\n",
       "      <td>883314124863700995</td>\n",
       "      <td>@repjohnlewis</td>\n",
       "    </tr>\n",
       "    <tr>\n",
       "      <th>1535</th>\n",
       "      <td>Retweet if you care about @realDonaldTrump's t...</td>\n",
       "      <td>2017-01-11 16:40:05</td>\n",
       "      <td>45713</td>\n",
       "      <td>123593</td>\n",
       "      <td>819222357214658561</td>\n",
       "      <td>@RonWyden</td>\n",
       "    </tr>\n",
       "    <tr>\n",
       "      <th>1220</th>\n",
       "      <td>Hey Republicans, don't worry, that burn is cov...</td>\n",
       "      <td>2017-03-24 19:53:43</td>\n",
       "      <td>310324</td>\n",
       "      <td>143726</td>\n",
       "      <td>845363015222542336</td>\n",
       "      <td>@SenatorMenendez</td>\n",
       "    </tr>\n",
       "    <tr>\n",
       "      <th>31</th>\n",
       "      <td>It's a shame the White House has become an adu...</td>\n",
       "      <td>2017-10-08 15:13:43</td>\n",
       "      <td>419380</td>\n",
       "      <td>148639</td>\n",
       "      <td>917045348820049920</td>\n",
       "      <td>@SenBobCorker</td>\n",
       "    </tr>\n",
       "    <tr>\n",
       "      <th>1421</th>\n",
       "      <td>President Trump, you made a big mistake. By tr...</td>\n",
       "      <td>2017-01-21 22:15:24</td>\n",
       "      <td>972101</td>\n",
       "      <td>452896</td>\n",
       "      <td>822930622926745602</td>\n",
       "      <td>@SenSanders</td>\n",
       "    </tr>\n",
       "  </tbody>\n",
       "</table>\n",
       "</div>"
      ],
      "text/plain": [
       "                                                   Text                 Date  \\\n",
       "38    56 years ago today I was released from Parchma...  2017-07-07 13:17:53   \n",
       "1535  Retweet if you care about @realDonaldTrump's t...  2017-01-11 16:40:05   \n",
       "1220  Hey Republicans, don't worry, that burn is cov...  2017-03-24 19:53:43   \n",
       "31    It's a shame the White House has become an adu...  2017-10-08 15:13:43   \n",
       "1421  President Trump, you made a big mistake. By tr...  2017-01-21 22:15:24   \n",
       "\n",
       "      Favorites  Retweets            Tweet ID           account  \n",
       "38       259935    114910  883314124863700995     @repjohnlewis  \n",
       "1535      45713    123593  819222357214658561         @RonWyden  \n",
       "1220     310324    143726  845363015222542336  @SenatorMenendez  \n",
       "31       419380    148639  917045348820049920     @SenBobCorker  \n",
       "1421     972101    452896  822930622926745602       @SenSanders  "
      ]
     },
     "execution_count": 12,
     "metadata": {},
     "output_type": "execute_result"
    }
   ],
   "source": [
    "most_retweets_congress_dataframe.sort_values('Retweets').tail()"
   ]
  },
  {
   "cell_type": "markdown",
   "metadata": {},
   "source": [
    "#### Show the Favorites dataframe"
   ]
  },
  {
   "cell_type": "code",
   "execution_count": 13,
   "metadata": {},
   "outputs": [
    {
     "data": {
      "text/html": [
       "<div>\n",
       "<style>\n",
       "    .dataframe thead tr:only-child th {\n",
       "        text-align: right;\n",
       "    }\n",
       "\n",
       "    .dataframe thead th {\n",
       "        text-align: left;\n",
       "    }\n",
       "\n",
       "    .dataframe tbody tr th {\n",
       "        vertical-align: top;\n",
       "    }\n",
       "</style>\n",
       "<table border=\"1\" class=\"dataframe\">\n",
       "  <thead>\n",
       "    <tr style=\"text-align: right;\">\n",
       "      <th></th>\n",
       "      <th>Text</th>\n",
       "      <th>Date</th>\n",
       "      <th>Favorites</th>\n",
       "      <th>Retweets</th>\n",
       "      <th>Tweet ID</th>\n",
       "      <th>account</th>\n",
       "    </tr>\n",
       "  </thead>\n",
       "  <tbody>\n",
       "    <tr>\n",
       "      <th>333</th>\n",
       "      <td>The President of the United States just defend...</td>\n",
       "      <td>2017-08-15 21:03:44</td>\n",
       "      <td>221573</td>\n",
       "      <td>82791</td>\n",
       "      <td>897564488475586560</td>\n",
       "      <td>@SenWarren</td>\n",
       "    </tr>\n",
       "    <tr>\n",
       "      <th>38</th>\n",
       "      <td>56 years ago today I was released from Parchma...</td>\n",
       "      <td>2017-07-07 13:17:53</td>\n",
       "      <td>259935</td>\n",
       "      <td>114910</td>\n",
       "      <td>883314124863700995</td>\n",
       "      <td>@repjohnlewis</td>\n",
       "    </tr>\n",
       "    <tr>\n",
       "      <th>1220</th>\n",
       "      <td>Hey Republicans, don't worry, that burn is cov...</td>\n",
       "      <td>2017-03-24 19:53:43</td>\n",
       "      <td>310324</td>\n",
       "      <td>143726</td>\n",
       "      <td>845363015222542336</td>\n",
       "      <td>@SenatorMenendez</td>\n",
       "    </tr>\n",
       "    <tr>\n",
       "      <th>31</th>\n",
       "      <td>It's a shame the White House has become an adu...</td>\n",
       "      <td>2017-10-08 15:13:43</td>\n",
       "      <td>419380</td>\n",
       "      <td>148639</td>\n",
       "      <td>917045348820049920</td>\n",
       "      <td>@SenBobCorker</td>\n",
       "    </tr>\n",
       "    <tr>\n",
       "      <th>1421</th>\n",
       "      <td>President Trump, you made a big mistake. By tr...</td>\n",
       "      <td>2017-01-21 22:15:24</td>\n",
       "      <td>972101</td>\n",
       "      <td>452896</td>\n",
       "      <td>822930622926745602</td>\n",
       "      <td>@SenSanders</td>\n",
       "    </tr>\n",
       "  </tbody>\n",
       "</table>\n",
       "</div>"
      ],
      "text/plain": [
       "                                                   Text                 Date  \\\n",
       "333   The President of the United States just defend...  2017-08-15 21:03:44   \n",
       "38    56 years ago today I was released from Parchma...  2017-07-07 13:17:53   \n",
       "1220  Hey Republicans, don't worry, that burn is cov...  2017-03-24 19:53:43   \n",
       "31    It's a shame the White House has become an adu...  2017-10-08 15:13:43   \n",
       "1421  President Trump, you made a big mistake. By tr...  2017-01-21 22:15:24   \n",
       "\n",
       "      Favorites  Retweets            Tweet ID           account  \n",
       "333      221573     82791  897564488475586560        @SenWarren  \n",
       "38       259935    114910  883314124863700995     @repjohnlewis  \n",
       "1220     310324    143726  845363015222542336  @SenatorMenendez  \n",
       "31       419380    148639  917045348820049920     @SenBobCorker  \n",
       "1421     972101    452896  822930622926745602       @SenSanders  "
      ]
     },
     "execution_count": 13,
     "metadata": {},
     "output_type": "execute_result"
    }
   ],
   "source": [
    "most_favorites_congress_dataframe.sort_values('Favorites').tail()"
   ]
  },
  {
   "cell_type": "markdown",
   "metadata": {},
   "source": [
    "#### Combine all House of Representatives' accounts, all Senators' accounts, and then combine them together into all Congress accounts"
   ]
  },
  {
   "cell_type": "code",
   "execution_count": 14,
   "metadata": {
    "collapsed": true
   },
   "outputs": [],
   "source": [
    "house_dataframe = pd.concat(house_accounts_dataframes)"
   ]
  },
  {
   "cell_type": "code",
   "execution_count": 15,
   "metadata": {
    "collapsed": true
   },
   "outputs": [],
   "source": [
    "senate_dataframe = pd.concat(senate_accounts_dataframes)"
   ]
  },
  {
   "cell_type": "code",
   "execution_count": 16,
   "metadata": {
    "collapsed": true
   },
   "outputs": [],
   "source": [
    "congress_dataframe = pd.concat([house_dataframe, senate_dataframe]).reset_index(drop=True)"
   ]
  },
  {
   "cell_type": "markdown",
   "metadata": {},
   "source": [
    "#### Print some statistics"
   ]
  },
  {
   "cell_type": "code",
   "execution_count": 17,
   "metadata": {},
   "outputs": [
    {
     "name": "stdout",
     "output_type": "stream",
     "text": [
      "Total number of Tweets for all accounts: 1614749\n",
      "Total number of accounts: 524\n",
      "Total number of house members: 424\n",
      "Total number of senators: 100\n"
     ]
    }
   ],
   "source": [
    "print(\"Total number of Tweets for all accounts: \" + str(len(congress_dataframe)))\n",
    "print(\"Total number of accounts: \" + str(len(set(congress_dataframe[\"account\"]))))\n",
    "print(\"Total number of house members: \" + str(len(set(house_dataframe[\"account\"]))))\n",
    "print(\"Total number of senators: \" + str(len(set(senate_dataframe[\"account\"]))))"
   ]
  },
  {
   "cell_type": "code",
   "execution_count": null,
   "metadata": {
    "collapsed": true
   },
   "outputs": [],
   "source": []
  }
 ],
 "metadata": {
  "kernelspec": {
   "display_name": "Python 3",
   "language": "python",
   "name": "python3"
  },
  "language_info": {
   "codemirror_mode": {
    "name": "ipython",
    "version": 3
   },
   "file_extension": ".py",
   "mimetype": "text/x-python",
   "name": "python",
   "nbconvert_exporter": "python",
   "pygments_lexer": "ipython3",
   "version": "3.6.1"
  }
 },
 "nbformat": 4,
 "nbformat_minor": 2
}
